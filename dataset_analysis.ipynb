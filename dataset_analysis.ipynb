{
 "metadata": {
  "language_info": {
   "codemirror_mode": {
    "name": "ipython",
    "version": 3
   },
   "file_extension": ".py",
   "mimetype": "text/x-python",
   "name": "python",
   "nbconvert_exporter": "python",
   "pygments_lexer": "ipython3",
   "version": "3.7"
  },
  "orig_nbformat": 2,
  "kernelspec": {
   "name": "python376jvsc74a57bd04c11216b84092f2d630fdce5ae177288b83ae6f93d8d3cab9ae238b16996706f",
   "display_name": "Python"
  }
 },
 "nbformat": 4,
 "nbformat_minor": 2,
 "cells": [
  {
   "cell_type": "code",
   "execution_count": 3,
   "metadata": {},
   "outputs": [],
   "source": [
    "import os\n",
    "import pandas as pd\n",
    "import numpy as np\n",
    "dataset_path = '/home/disk2/zfj2020/workspace/dataset/qichedashi/finished_csv_files'\n",
    "train_path = os.path.join(dataset_path, 'train.csv')\n",
    "valid_path = os.path.join(dataset_path, 'valid.csv')\n",
    "test_path = os.path.join(dataset_path, 'test.csv')\n",
    "train_datas = pd.read_csv(train_path, encoding='utf-8')\n",
    "valid_datas = pd.read_csv(valid_path, encoding='utf-8')\n",
    "test_datas = pd.read_csv(test_path, encoding='utf-8')\n"
   ]
  },
  {
   "cell_type": "code",
   "execution_count": 7,
   "metadata": {
    "tags": []
   },
   "outputs": [
    {
     "output_type": "stream",
     "name": "stdout",
     "text": [
      "平均对话轮数：  13.392615746040594\n平均对话token数：  293.81356202156144\n平均摘要长度：  42.58845077993569\n"
     ]
    }
   ],
   "source": [
    "'''train'''\n",
    "train_pros = train_datas['Problem'].tolist()\n",
    "train_dias = train_datas['Conversation'].tolist()\n",
    "train_repos = train_datas['Report'].tolist()\n",
    "all_train_utt_nums = []\n",
    "all_train_token_nums = []\n",
    "all_train_summ_token_nums = []\n",
    "for pro, dia, repo in zip(train_pros, train_dias, train_repos):\n",
    "    art = pro + '|' + dia\n",
    "    art = list(art)\n",
    "    for i in range(len(art)-1):\n",
    "        if art[i] == '|' and art[i+1] not in ['车','技']:\n",
    "            art[i] = '^'\n",
    "    art = ''.join(art)\n",
    "    art = art.replace('^','')\n",
    "\n",
    "    art = art.split('|')\n",
    "    all_train_utt_nums.append(len(art))\n",
    "    \n",
    "    art = ''.join(art)\n",
    "    all_train_token_nums.append(len(art))\n",
    "\n",
    "    all_train_summ_token_nums.append(len(repo))\n",
    "\n",
    "avg_train_utt_num = np.mean(all_train_utt_nums)\n",
    "avg_train_token_num = np.mean(all_train_token_nums)\n",
    "avg_train_summ_token_num = np.mean(all_train_summ_token_nums)\n",
    "print('平均对话轮数： ', avg_train_utt_num)\n",
    "print('平均对话token数： ', avg_train_token_num)\n",
    "print('平均摘要长度： ', avg_train_summ_token_num)\n",
    "    \n"
   ]
  },
  {
   "cell_type": "code",
   "execution_count": 8,
   "metadata": {},
   "outputs": [
    {
     "output_type": "stream",
     "name": "stdout",
     "text": [
      "平均对话轮数：  14.540666666666667\n平均对话token数：  303.43333333333334\n平均摘要长度：  35.986333333333334\n"
     ]
    }
   ],
   "source": [
    "'''valid'''\n",
    "valid_pros = valid_datas['Problem'].tolist()\n",
    "valid_dias = valid_datas['Conversation'].tolist()\n",
    "valid_repos = valid_datas['Report'].tolist()\n",
    "all_valid_utt_nums = []\n",
    "all_valid_token_nums = []\n",
    "all_valid_summ_token_nums = []\n",
    "for pro, dia, repo in zip(valid_pros, valid_dias, valid_repos):\n",
    "    art = pro + '|' + dia\n",
    "    art = list(art)\n",
    "    for i in range(len(art)-1):\n",
    "        if art[i] == '|' and art[i+1] not in ['车','技']:\n",
    "            art[i] = '^'\n",
    "    art = ''.join(art)\n",
    "    art = art.replace('^','')\n",
    "\n",
    "    art = art.split('|')\n",
    "    all_valid_utt_nums.append(len(art))\n",
    "    \n",
    "    art = ''.join(art)\n",
    "    all_valid_token_nums.append(len(art))\n",
    "    \n",
    "    all_valid_summ_token_nums.append(len(repo))\n",
    "\n",
    "avg_valid_utt_num = np.mean(all_valid_utt_nums)\n",
    "avg_valid_token_num = np.mean(all_valid_token_nums)\n",
    "avg_valid_summ_token_num = np.mean(all_valid_summ_token_nums)\n",
    "print('平均对话轮数： ', avg_valid_utt_num)\n",
    "print('平均对话token数： ', avg_valid_token_num)\n",
    "print('平均摘要长度： ', avg_valid_summ_token_num)"
   ]
  },
  {
   "cell_type": "code",
   "execution_count": 9,
   "metadata": {},
   "outputs": [
    {
     "output_type": "stream",
     "name": "stdout",
     "text": [
      "平均对话轮数：  13.911\n平均对话token数：  295.3256666666667\n平均摘要长度：  36.94733333333333\n"
     ]
    }
   ],
   "source": [
    "'''test'''\n",
    "test_pros = test_datas['Problem'].tolist()\n",
    "test_dias = test_datas['Conversation'].tolist()\n",
    "test_repos = test_datas['Report'].tolist()\n",
    "all_test_utt_nums = []\n",
    "all_test_token_nums = []\n",
    "all_test_summ_token_nums = []\n",
    "for pro, dia, repo in zip(test_pros, test_dias, test_repos):\n",
    "    art = pro + '|' + dia\n",
    "    art = list(art)\n",
    "    for i in range(len(art)-1):\n",
    "        if art[i] == '|' and art[i+1] not in ['车','技']:\n",
    "            art[i] = '^'\n",
    "    art = ''.join(art)\n",
    "    art = art.replace('^','')\n",
    "\n",
    "    art = art.split('|')\n",
    "    all_test_utt_nums.append(len(art))\n",
    "    \n",
    "    art = ''.join(art)\n",
    "    all_test_token_nums.append(len(art))\n",
    "    \n",
    "    all_test_summ_token_nums.append(len(repo))\n",
    "\n",
    "avg_test_utt_num = np.mean(all_test_utt_nums)\n",
    "avg_test_token_num = np.mean(all_test_token_nums)\n",
    "avg_test_summ_token_num = np.mean(all_test_summ_token_nums)\n",
    "print('平均对话轮数： ', avg_test_utt_num)\n",
    "print('平均对话token数： ', avg_test_token_num)\n",
    "print('平均摘要长度： ', avg_test_summ_token_num)"
   ]
  },
  {
   "cell_type": "code",
   "execution_count": 10,
   "metadata": {},
   "outputs": [
    {
     "output_type": "stream",
     "name": "stdout",
     "text": [
      "平均对话轮数：  13.43957654264163\n平均对话token数：  294.12726265064765\n平均摘要长度：  42.24343162027861\n"
     ]
    }
   ],
   "source": [
    "all_utt_nums = all_train_utt_nums + all_valid_utt_nums + all_test_utt_nums\n",
    "all_token_nums = all_train_token_nums + all_valid_token_nums + all_test_token_nums\n",
    "all_summ_token_nums = all_train_summ_token_nums + all_valid_summ_token_nums + all_test_summ_token_nums\n",
    "avg_utt_num = np.mean(all_utt_nums)\n",
    "avg_token_num = np.mean(all_token_nums)\n",
    "avg_summ_token_num = np.mean(all_summ_token_nums)\n",
    "print('平均对话轮数： ', avg_utt_num)\n",
    "print('平均对话token数： ', avg_token_num)\n",
    "print('平均摘要长度： ', avg_summ_token_num)"
   ]
  },
  {
   "cell_type": "code",
   "execution_count": null,
   "metadata": {},
   "outputs": [],
   "source": []
  }
 ]
}